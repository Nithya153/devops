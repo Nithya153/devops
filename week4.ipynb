{
  "cells": [
    {
      "cell_type": "markdown",
      "metadata": {
        "id": "view-in-github",
        "colab_type": "text"
      },
      "source": [
        "<a href=\"https://colab.research.google.com/github/Nithya153/devops/blob/main/week4.ipynb\" target=\"_parent\"><img src=\"https://colab.research.google.com/assets/colab-badge.svg\" alt=\"Open In Colab\"/></a>"
      ]
    },
    {
      "cell_type": "markdown",
      "source": [
        "#Flow Chart\n",
        "-----\n",
        "1.Import packages\n",
        "---\n",
        "2.Loading dataset\n",
        "----\n",
        "3.Spliting test n train datset\n",
        "----\n",
        "4.Feature scaling\n",
        "----\n",
        "5.Perform Ridge Regression\n",
        "----\n",
        "6.Fit the model\n",
        "----\n",
        "7.Mean square error and R-Square and MAE\n",
        "-----\n",
        "8.Grid search Without sklearn\n",
        "---\n",
        "9.Random Search without sklearn\n",
        "-----\n",
        "10.Summary"
      ],
      "metadata": {
        "id": "pHxBjO3mGjOj"
      }
    },
    {
      "cell_type": "markdown",
      "source": [
        "# Import packages"
      ],
      "metadata": {
        "id": "rYW18UFkGn9l"
      }
    },
    {
      "cell_type": "code",
      "execution_count": 1,
      "metadata": {
        "id": "XYKXfumIJx9n"
      },
      "outputs": [],
      "source": [
        "import numpy as np\n",
        "import pandas as pd"
      ]
    },
    {
      "cell_type": "markdown",
      "source": [
        "#Load Dataset"
      ],
      "metadata": {
        "id": "DgrmLn-YGvfn"
      }
    },
    {
      "cell_type": "code",
      "execution_count": 2,
      "metadata": {
        "colab": {
          "base_uri": "https://localhost:8080/",
          "height": 206
        },
        "id": "bj7yqQ_UJ-Ih",
        "outputId": "84787d67-1395-41f3-e55c-2e200a3067ee"
      },
      "outputs": [
        {
          "output_type": "execute_result",
          "data": {
            "text/plain": [
              "      TV  Radio  Newspaper  Sales\n",
              "0  230.1   37.8       69.2   22.1\n",
              "1   44.5   39.3       45.1   10.4\n",
              "2   17.2   45.9       69.3   12.0\n",
              "3  151.5   41.3       58.5   16.5\n",
              "4  180.8   10.8       58.4   17.9"
            ],
            "text/html": [
              "\n",
              "  <div id=\"df-b12c564d-507f-4383-95f9-5732ec912813\">\n",
              "    <div class=\"colab-df-container\">\n",
              "      <div>\n",
              "<style scoped>\n",
              "    .dataframe tbody tr th:only-of-type {\n",
              "        vertical-align: middle;\n",
              "    }\n",
              "\n",
              "    .dataframe tbody tr th {\n",
              "        vertical-align: top;\n",
              "    }\n",
              "\n",
              "    .dataframe thead th {\n",
              "        text-align: right;\n",
              "    }\n",
              "</style>\n",
              "<table border=\"1\" class=\"dataframe\">\n",
              "  <thead>\n",
              "    <tr style=\"text-align: right;\">\n",
              "      <th></th>\n",
              "      <th>TV</th>\n",
              "      <th>Radio</th>\n",
              "      <th>Newspaper</th>\n",
              "      <th>Sales</th>\n",
              "    </tr>\n",
              "  </thead>\n",
              "  <tbody>\n",
              "    <tr>\n",
              "      <th>0</th>\n",
              "      <td>230.1</td>\n",
              "      <td>37.8</td>\n",
              "      <td>69.2</td>\n",
              "      <td>22.1</td>\n",
              "    </tr>\n",
              "    <tr>\n",
              "      <th>1</th>\n",
              "      <td>44.5</td>\n",
              "      <td>39.3</td>\n",
              "      <td>45.1</td>\n",
              "      <td>10.4</td>\n",
              "    </tr>\n",
              "    <tr>\n",
              "      <th>2</th>\n",
              "      <td>17.2</td>\n",
              "      <td>45.9</td>\n",
              "      <td>69.3</td>\n",
              "      <td>12.0</td>\n",
              "    </tr>\n",
              "    <tr>\n",
              "      <th>3</th>\n",
              "      <td>151.5</td>\n",
              "      <td>41.3</td>\n",
              "      <td>58.5</td>\n",
              "      <td>16.5</td>\n",
              "    </tr>\n",
              "    <tr>\n",
              "      <th>4</th>\n",
              "      <td>180.8</td>\n",
              "      <td>10.8</td>\n",
              "      <td>58.4</td>\n",
              "      <td>17.9</td>\n",
              "    </tr>\n",
              "  </tbody>\n",
              "</table>\n",
              "</div>\n",
              "      <button class=\"colab-df-convert\" onclick=\"convertToInteractive('df-b12c564d-507f-4383-95f9-5732ec912813')\"\n",
              "              title=\"Convert this dataframe to an interactive table.\"\n",
              "              style=\"display:none;\">\n",
              "        \n",
              "  <svg xmlns=\"http://www.w3.org/2000/svg\" height=\"24px\"viewBox=\"0 0 24 24\"\n",
              "       width=\"24px\">\n",
              "    <path d=\"M0 0h24v24H0V0z\" fill=\"none\"/>\n",
              "    <path d=\"M18.56 5.44l.94 2.06.94-2.06 2.06-.94-2.06-.94-.94-2.06-.94 2.06-2.06.94zm-11 1L8.5 8.5l.94-2.06 2.06-.94-2.06-.94L8.5 2.5l-.94 2.06-2.06.94zm10 10l.94 2.06.94-2.06 2.06-.94-2.06-.94-.94-2.06-.94 2.06-2.06.94z\"/><path d=\"M17.41 7.96l-1.37-1.37c-.4-.4-.92-.59-1.43-.59-.52 0-1.04.2-1.43.59L10.3 9.45l-7.72 7.72c-.78.78-.78 2.05 0 2.83L4 21.41c.39.39.9.59 1.41.59.51 0 1.02-.2 1.41-.59l7.78-7.78 2.81-2.81c.8-.78.8-2.07 0-2.86zM5.41 20L4 18.59l7.72-7.72 1.47 1.35L5.41 20z\"/>\n",
              "  </svg>\n",
              "      </button>\n",
              "      \n",
              "  <style>\n",
              "    .colab-df-container {\n",
              "      display:flex;\n",
              "      flex-wrap:wrap;\n",
              "      gap: 12px;\n",
              "    }\n",
              "\n",
              "    .colab-df-convert {\n",
              "      background-color: #E8F0FE;\n",
              "      border: none;\n",
              "      border-radius: 50%;\n",
              "      cursor: pointer;\n",
              "      display: none;\n",
              "      fill: #1967D2;\n",
              "      height: 32px;\n",
              "      padding: 0 0 0 0;\n",
              "      width: 32px;\n",
              "    }\n",
              "\n",
              "    .colab-df-convert:hover {\n",
              "      background-color: #E2EBFA;\n",
              "      box-shadow: 0px 1px 2px rgba(60, 64, 67, 0.3), 0px 1px 3px 1px rgba(60, 64, 67, 0.15);\n",
              "      fill: #174EA6;\n",
              "    }\n",
              "\n",
              "    [theme=dark] .colab-df-convert {\n",
              "      background-color: #3B4455;\n",
              "      fill: #D2E3FC;\n",
              "    }\n",
              "\n",
              "    [theme=dark] .colab-df-convert:hover {\n",
              "      background-color: #434B5C;\n",
              "      box-shadow: 0px 1px 3px 1px rgba(0, 0, 0, 0.15);\n",
              "      filter: drop-shadow(0px 1px 2px rgba(0, 0, 0, 0.3));\n",
              "      fill: #FFFFFF;\n",
              "    }\n",
              "  </style>\n",
              "\n",
              "      <script>\n",
              "        const buttonEl =\n",
              "          document.querySelector('#df-b12c564d-507f-4383-95f9-5732ec912813 button.colab-df-convert');\n",
              "        buttonEl.style.display =\n",
              "          google.colab.kernel.accessAllowed ? 'block' : 'none';\n",
              "\n",
              "        async function convertToInteractive(key) {\n",
              "          const element = document.querySelector('#df-b12c564d-507f-4383-95f9-5732ec912813');\n",
              "          const dataTable =\n",
              "            await google.colab.kernel.invokeFunction('convertToInteractive',\n",
              "                                                     [key], {});\n",
              "          if (!dataTable) return;\n",
              "\n",
              "          const docLinkHtml = 'Like what you see? Visit the ' +\n",
              "            '<a target=\"_blank\" href=https://colab.research.google.com/notebooks/data_table.ipynb>data table notebook</a>'\n",
              "            + ' to learn more about interactive tables.';\n",
              "          element.innerHTML = '';\n",
              "          dataTable['output_type'] = 'display_data';\n",
              "          await google.colab.output.renderOutput(dataTable, element);\n",
              "          const docLink = document.createElement('div');\n",
              "          docLink.innerHTML = docLinkHtml;\n",
              "          element.appendChild(docLink);\n",
              "        }\n",
              "      </script>\n",
              "    </div>\n",
              "  </div>\n",
              "  "
            ]
          },
          "metadata": {},
          "execution_count": 2
        }
      ],
      "source": [
        "df = pd.read_csv(\"/content/company.csv\")\n",
        "df.head(5)"
      ]
    },
    {
      "cell_type": "code",
      "execution_count": 3,
      "metadata": {
        "colab": {
          "base_uri": "https://localhost:8080/",
          "height": 300
        },
        "id": "UTB28Jv0WPxZ",
        "outputId": "642524ab-bd9a-473b-829f-3f4a09660c49"
      },
      "outputs": [
        {
          "output_type": "execute_result",
          "data": {
            "text/plain": [
              "               TV       Radio   Newspaper       Sales\n",
              "count  200.000000  200.000000  200.000000  200.000000\n",
              "mean   147.042500   23.264000   30.554000   15.130500\n",
              "std     85.854236   14.846809   21.778621    5.283892\n",
              "min      0.700000    0.000000    0.300000    1.600000\n",
              "25%     74.375000    9.975000   12.750000   11.000000\n",
              "50%    149.750000   22.900000   25.750000   16.000000\n",
              "75%    218.825000   36.525000   45.100000   19.050000\n",
              "max    296.400000   49.600000  114.000000   27.000000"
            ],
            "text/html": [
              "\n",
              "  <div id=\"df-c42b1ae1-7ce7-4a87-947f-68cb80300f97\">\n",
              "    <div class=\"colab-df-container\">\n",
              "      <div>\n",
              "<style scoped>\n",
              "    .dataframe tbody tr th:only-of-type {\n",
              "        vertical-align: middle;\n",
              "    }\n",
              "\n",
              "    .dataframe tbody tr th {\n",
              "        vertical-align: top;\n",
              "    }\n",
              "\n",
              "    .dataframe thead th {\n",
              "        text-align: right;\n",
              "    }\n",
              "</style>\n",
              "<table border=\"1\" class=\"dataframe\">\n",
              "  <thead>\n",
              "    <tr style=\"text-align: right;\">\n",
              "      <th></th>\n",
              "      <th>TV</th>\n",
              "      <th>Radio</th>\n",
              "      <th>Newspaper</th>\n",
              "      <th>Sales</th>\n",
              "    </tr>\n",
              "  </thead>\n",
              "  <tbody>\n",
              "    <tr>\n",
              "      <th>count</th>\n",
              "      <td>200.000000</td>\n",
              "      <td>200.000000</td>\n",
              "      <td>200.000000</td>\n",
              "      <td>200.000000</td>\n",
              "    </tr>\n",
              "    <tr>\n",
              "      <th>mean</th>\n",
              "      <td>147.042500</td>\n",
              "      <td>23.264000</td>\n",
              "      <td>30.554000</td>\n",
              "      <td>15.130500</td>\n",
              "    </tr>\n",
              "    <tr>\n",
              "      <th>std</th>\n",
              "      <td>85.854236</td>\n",
              "      <td>14.846809</td>\n",
              "      <td>21.778621</td>\n",
              "      <td>5.283892</td>\n",
              "    </tr>\n",
              "    <tr>\n",
              "      <th>min</th>\n",
              "      <td>0.700000</td>\n",
              "      <td>0.000000</td>\n",
              "      <td>0.300000</td>\n",
              "      <td>1.600000</td>\n",
              "    </tr>\n",
              "    <tr>\n",
              "      <th>25%</th>\n",
              "      <td>74.375000</td>\n",
              "      <td>9.975000</td>\n",
              "      <td>12.750000</td>\n",
              "      <td>11.000000</td>\n",
              "    </tr>\n",
              "    <tr>\n",
              "      <th>50%</th>\n",
              "      <td>149.750000</td>\n",
              "      <td>22.900000</td>\n",
              "      <td>25.750000</td>\n",
              "      <td>16.000000</td>\n",
              "    </tr>\n",
              "    <tr>\n",
              "      <th>75%</th>\n",
              "      <td>218.825000</td>\n",
              "      <td>36.525000</td>\n",
              "      <td>45.100000</td>\n",
              "      <td>19.050000</td>\n",
              "    </tr>\n",
              "    <tr>\n",
              "      <th>max</th>\n",
              "      <td>296.400000</td>\n",
              "      <td>49.600000</td>\n",
              "      <td>114.000000</td>\n",
              "      <td>27.000000</td>\n",
              "    </tr>\n",
              "  </tbody>\n",
              "</table>\n",
              "</div>\n",
              "      <button class=\"colab-df-convert\" onclick=\"convertToInteractive('df-c42b1ae1-7ce7-4a87-947f-68cb80300f97')\"\n",
              "              title=\"Convert this dataframe to an interactive table.\"\n",
              "              style=\"display:none;\">\n",
              "        \n",
              "  <svg xmlns=\"http://www.w3.org/2000/svg\" height=\"24px\"viewBox=\"0 0 24 24\"\n",
              "       width=\"24px\">\n",
              "    <path d=\"M0 0h24v24H0V0z\" fill=\"none\"/>\n",
              "    <path d=\"M18.56 5.44l.94 2.06.94-2.06 2.06-.94-2.06-.94-.94-2.06-.94 2.06-2.06.94zm-11 1L8.5 8.5l.94-2.06 2.06-.94-2.06-.94L8.5 2.5l-.94 2.06-2.06.94zm10 10l.94 2.06.94-2.06 2.06-.94-2.06-.94-.94-2.06-.94 2.06-2.06.94z\"/><path d=\"M17.41 7.96l-1.37-1.37c-.4-.4-.92-.59-1.43-.59-.52 0-1.04.2-1.43.59L10.3 9.45l-7.72 7.72c-.78.78-.78 2.05 0 2.83L4 21.41c.39.39.9.59 1.41.59.51 0 1.02-.2 1.41-.59l7.78-7.78 2.81-2.81c.8-.78.8-2.07 0-2.86zM5.41 20L4 18.59l7.72-7.72 1.47 1.35L5.41 20z\"/>\n",
              "  </svg>\n",
              "      </button>\n",
              "      \n",
              "  <style>\n",
              "    .colab-df-container {\n",
              "      display:flex;\n",
              "      flex-wrap:wrap;\n",
              "      gap: 12px;\n",
              "    }\n",
              "\n",
              "    .colab-df-convert {\n",
              "      background-color: #E8F0FE;\n",
              "      border: none;\n",
              "      border-radius: 50%;\n",
              "      cursor: pointer;\n",
              "      display: none;\n",
              "      fill: #1967D2;\n",
              "      height: 32px;\n",
              "      padding: 0 0 0 0;\n",
              "      width: 32px;\n",
              "    }\n",
              "\n",
              "    .colab-df-convert:hover {\n",
              "      background-color: #E2EBFA;\n",
              "      box-shadow: 0px 1px 2px rgba(60, 64, 67, 0.3), 0px 1px 3px 1px rgba(60, 64, 67, 0.15);\n",
              "      fill: #174EA6;\n",
              "    }\n",
              "\n",
              "    [theme=dark] .colab-df-convert {\n",
              "      background-color: #3B4455;\n",
              "      fill: #D2E3FC;\n",
              "    }\n",
              "\n",
              "    [theme=dark] .colab-df-convert:hover {\n",
              "      background-color: #434B5C;\n",
              "      box-shadow: 0px 1px 3px 1px rgba(0, 0, 0, 0.15);\n",
              "      filter: drop-shadow(0px 1px 2px rgba(0, 0, 0, 0.3));\n",
              "      fill: #FFFFFF;\n",
              "    }\n",
              "  </style>\n",
              "\n",
              "      <script>\n",
              "        const buttonEl =\n",
              "          document.querySelector('#df-c42b1ae1-7ce7-4a87-947f-68cb80300f97 button.colab-df-convert');\n",
              "        buttonEl.style.display =\n",
              "          google.colab.kernel.accessAllowed ? 'block' : 'none';\n",
              "\n",
              "        async function convertToInteractive(key) {\n",
              "          const element = document.querySelector('#df-c42b1ae1-7ce7-4a87-947f-68cb80300f97');\n",
              "          const dataTable =\n",
              "            await google.colab.kernel.invokeFunction('convertToInteractive',\n",
              "                                                     [key], {});\n",
              "          if (!dataTable) return;\n",
              "\n",
              "          const docLinkHtml = 'Like what you see? Visit the ' +\n",
              "            '<a target=\"_blank\" href=https://colab.research.google.com/notebooks/data_table.ipynb>data table notebook</a>'\n",
              "            + ' to learn more about interactive tables.';\n",
              "          element.innerHTML = '';\n",
              "          dataTable['output_type'] = 'display_data';\n",
              "          await google.colab.output.renderOutput(dataTable, element);\n",
              "          const docLink = document.createElement('div');\n",
              "          docLink.innerHTML = docLinkHtml;\n",
              "          element.appendChild(docLink);\n",
              "        }\n",
              "      </script>\n",
              "    </div>\n",
              "  </div>\n",
              "  "
            ]
          },
          "metadata": {},
          "execution_count": 3
        }
      ],
      "source": [
        "df.describe()"
      ]
    },
    {
      "cell_type": "markdown",
      "source": [
        "#Splitting Train and Test dataset "
      ],
      "metadata": {
        "id": "8JLc4IwxG0_I"
      }
    },
    {
      "cell_type": "code",
      "execution_count": 4,
      "metadata": {
        "id": "RneyZmXLKOpl"
      },
      "outputs": [],
      "source": [
        "ratio = 0.7\n",
        " \n",
        "rows = df.shape[0]\n",
        "train_size = int(rows*ratio)\n",
        "\n",
        "df_train = df[0:train_size]\n",
        "df_test = df[train_size:]"
      ]
    },
    {
      "cell_type": "code",
      "execution_count": 5,
      "metadata": {
        "id": "FsFuFhOCKOgR"
      },
      "outputs": [],
      "source": [
        "X_train = df_train.drop(['Sales'], axis = 1).values ## independent features"
      ]
    },
    {
      "cell_type": "code",
      "execution_count": 6,
      "metadata": {
        "id": "M1hSdGWtLFUc"
      },
      "outputs": [],
      "source": [
        "y_train = df_train['Sales'].values  ## dependent features"
      ]
    },
    {
      "cell_type": "code",
      "execution_count": 7,
      "metadata": {
        "id": "1wExj8GwLLjb"
      },
      "outputs": [],
      "source": [
        "X_test = df_test.drop(['Sales'], axis = 1).values"
      ]
    },
    {
      "cell_type": "code",
      "execution_count": 8,
      "metadata": {
        "id": "crWYnJzbLLcp"
      },
      "outputs": [],
      "source": [
        "y_test = df_test['Sales'].values"
      ]
    },
    {
      "cell_type": "markdown",
      "source": [
        "#Feature scaling"
      ],
      "metadata": {
        "id": "JCdMC43nHASZ"
      }
    },
    {
      "cell_type": "code",
      "execution_count": 9,
      "metadata": {
        "id": "01ZFqcaBLLXs"
      },
      "outputs": [],
      "source": [
        "X_train = (X_train - np.mean(X_train)) / np.std(X_train)\n",
        "X_test = (X_test - np.mean(X_test)) / np.std(X_test)"
      ]
    },
    {
      "cell_type": "markdown",
      "source": [
        "#Perform Ridge Regression"
      ],
      "metadata": {
        "id": "AwzRLfGPHG4U"
      }
    },
    {
      "cell_type": "markdown",
      "source": [
        "This  defines a class called RidgeRegression, which is used to perform Ridge Regression, a type of linear regression with L2 regularization.\n",
        "---\n",
        "The class takes three arguments : learning_rate, iterations, and l2_penality.\n",
        "---\n",
        "The fit method of the class takes two arguments, X and Y, which are the input and output data for the regression problem. The method initializes the weights to zero and then performs gradient descent for the specified number of iterations.\n",
        "-----\n",
        "\n",
        "\n"
      ],
      "metadata": {
        "id": "xqc4ESoQNlLc"
      }
    },
    {
      "cell_type": "code",
      "execution_count": 10,
      "metadata": {
        "id": "xuDpixLXLhgX"
      },
      "outputs": [],
      "source": [
        "class RidgeRegression() :\n",
        "      \n",
        "    def __init__( self, learning_rate, iterations, l2_penality ) :\n",
        "          \n",
        "        self.learning_rate = learning_rate        \n",
        "        self.iterations = iterations        \n",
        "        self.l2_penality = l2_penality\n",
        "          \n",
        "    # Function for model training            \n",
        "    def fit( self, X, Y ) :\n",
        "          \n",
        "        # no_of_training_examples, no_of_features        \n",
        "        self.m, self.n = X.shape\n",
        "          \n",
        "        # weight initialization        \n",
        "        self.W = np.zeros( self.n )\n",
        "          \n",
        "        self.b = 0        \n",
        "        self.X = X        \n",
        "        self.Y = Y\n",
        "          \n",
        "        # gradient descent learning\n",
        "                  \n",
        "        for i in range( self.iterations ) :            \n",
        "            self.update_weights()            \n",
        "        return self\n",
        "      \n",
        "    # Helper function to update weights in gradient descent\n",
        "      \n",
        "    def update_weights( self ) :           \n",
        "        Y_pred = self.predict( self.X )\n",
        "          \n",
        "        # calculate gradients      \n",
        "        dW = ( - ( 2 * ( self.X.T ).dot( self.Y - Y_pred ) ) +               \n",
        "               ( 2 * self.l2_penality * self.W ) ) / self.m     \n",
        "        db = - 2 * np.sum( self.Y - Y_pred ) / self.m \n",
        "          \n",
        "        # update weights    \n",
        "        self.W = self.W - self.learning_rate * dW    \n",
        "        self.b = self.b - self.learning_rate * db        \n",
        "        return self\n",
        "      \n",
        "    # Hypothetical function  h( x ) \n",
        "    def predict( self, X ) :    \n",
        "        return X.dot( self.W ) + self.b\n",
        "      \n",
        "# Driver code\n",
        "  \n",
        "def main() :\n",
        "      \n",
        "    \n",
        "    # Model training    \n",
        "    model = RidgeRegression( iterations = 1000,                             \n",
        "                            learning_rate = 0.01, l2_penality = 0.01 )\n",
        "    model.fit( X_train, y_train )\n",
        "      \n",
        "    # Prediction on test set\n",
        "    Y_pred = model.predict( X_test )    \n",
        "\n",
        "      \n",
        "   \n",
        "      \n",
        "if __name__ == \"__main__\" : \n",
        "    main()"
      ]
    },
    {
      "cell_type": "markdown",
      "source": [
        "#Gradient descent weight update formula\n",
        "![nn.png](data:image/png;base64,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)"
      ],
      "metadata": {
        "id": "cUncgml1ZYSN"
      }
    },
    {
      "cell_type": "markdown",
      "source": [
        "#Fit the model"
      ],
      "metadata": {
        "id": "R6NHbomZHSGw"
      }
    },
    {
      "cell_type": "code",
      "execution_count": 11,
      "metadata": {
        "colab": {
          "base_uri": "https://localhost:8080/"
        },
        "id": "6Tv2QQ9wLhbH",
        "outputId": "c32d647b-8564-45e2-9b23-0643ca23b757"
      },
      "outputs": [
        {
          "output_type": "execute_result",
          "data": {
            "text/plain": [
              "<__main__.RidgeRegression at 0x7f1efa662550>"
            ]
          },
          "metadata": {},
          "execution_count": 11
        }
      ],
      "source": [
        "model = RidgeRegression( iterations = 1000,                             \n",
        "                            learning_rate = 0.01, l2_penality = 0.01)\n",
        "model.fit( X_train, y_train )"
      ]
    },
    {
      "cell_type": "code",
      "execution_count": 12,
      "metadata": {
        "id": "zLWoAhTcLhWa"
      },
      "outputs": [],
      "source": [
        "Y_pred = model.predict( X_test ) "
      ]
    },
    {
      "cell_type": "markdown",
      "source": [
        "#Mean square error and R-Square and Mean absolute error"
      ],
      "metadata": {
        "id": "YShIsIROHT0I"
      }
    },
    {
      "cell_type": "markdown",
      "source": [],
      "metadata": {
        "id": "Mm94obzxs5xh"
      }
    },
    {
      "cell_type": "code",
      "execution_count": 13,
      "metadata": {
        "colab": {
          "base_uri": "https://localhost:8080/"
        },
        "id": "6m-tZuqhLhR_",
        "outputId": "230b8076-9503-47b0-d090-920b6d28077a"
      },
      "outputs": [
        {
          "output_type": "stream",
          "name": "stdout",
          "text": [
            "MSE: 5.942321714386781\n",
            "R-squared: 78.40717403191994\n",
            "MAE: 1.9567567527475382\n"
          ]
        }
      ],
      "source": [
        "mse = np.mean((Y_pred - y_test)**2)\n",
        "r2 = 1 - np.sum((y_test - Y_pred)**2) / np.sum((y_test -np.mean(y_test))**2)\n",
        "mae = np.sum(np.abs(y_test - Y_pred))/len(y_test)\n",
        "\n",
        "print(\"MSE:\", mse)\n",
        "print(\"R-squared:\", r2*100)\n",
        "print(\"MAE:\", mae)"
      ]
    },
    {
      "cell_type": "markdown",
      "source": [
        "# Formula\n",
        "---\n",
        "1.R2\n",
        "---\n",
        "R^2 = 1 - \\frac{RSS}{TSS}\n",
        "\n",
        "R^2\t=\tcoefficient of determination\n",
        "----\n",
        "RSS\t=\tsum of squares of residuals\n",
        "\n",
        "TSS\t=\ttotal sum of squares\n"
      ],
      "metadata": {
        "id": "tl77I6NlbmJa"
      }
    },
    {
      "cell_type": "markdown",
      "source": [
        "![mse.png](data:image/png;base64,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)"
      ],
      "metadata": {
        "id": "ix6ct5RPcB9C"
      }
    },
    {
      "cell_type": "markdown",
      "source": [
        "![mae1.jpeg](data:image/jpeg;base64,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)"
      ],
      "metadata": {
        "id": "qAAkevxJdRV6"
      }
    },
    {
      "cell_type": "markdown",
      "metadata": {
        "id": "ALObLOSq7DwY"
      },
      "source": [
        "#Grid search without sklearn"
      ]
    },
    {
      "cell_type": "code",
      "execution_count": 14,
      "metadata": {
        "colab": {
          "base_uri": "https://localhost:8080/"
        },
        "id": "KPXTexPuMAOa",
        "outputId": "ef92bddb-bea3-4741-9fee-912353d69efc"
      },
      "outputs": [
        {
          "output_type": "stream",
          "name": "stdout",
          "text": [
            "MSE: 4.13914302951694\n",
            "R-squared: 84.95944861467768\n",
            "MAE: 1.6274147966317485\n"
          ]
        }
      ],
      "source": [
        "\n",
        "  \n",
        "def main() :  \n",
        "      \n",
        "      \n",
        "    # learning_rate choices    \n",
        "    learning_rates = [ 0.1, 0.2, 0.3, 0.4, 0.5, \n",
        "                      0.01, 0.02, 0.03, 0.04, 0.05]\n",
        "      \n",
        "    # iterations choices    \n",
        "    iterations = [ 100, 200, 300, 400, 500 ]\n",
        "\n",
        "    #l2 penalty\n",
        "    l2_penality = [0.1,1,10,100,0.01,0.001]\n",
        "    \n",
        "      \n",
        "    # available combination of learning_rate and iterations\n",
        "      \n",
        "    parameters = []    \n",
        "    for i in learning_rates :        \n",
        "        for j in iterations :\n",
        "          for l in l2_penality :         \n",
        "            parameters.append( ( i, j, l ) )\n",
        "              \n",
        "  \n",
        "              \n",
        "    # Applying linear searching in list of available combination\n",
        "    # to achieved maximum accuracy on CV set\n",
        "      \n",
        "    for k in range( len( parameters ) ) :        \n",
        "        model = RidgeRegression( learning_rate = parameters[k][0], \n",
        "                                iterations = parameters[k][1], l2_penality = parameters[k][2] )\n",
        "      \n",
        "        model.fit( X_train, y_train )\n",
        "        \n",
        "        # Prediction on validation set\n",
        "        Y_pred = model.predict( X_test )\n",
        "       \n",
        "\n",
        "              \n",
        "      \n",
        "    mse = np.mean((Y_pred - y_test)**2)\n",
        "    r2 = 1 - np.sum((y_test - Y_pred)**2) / np.sum((y_test -np.mean(y_test))**2)\n",
        "    mae = np.sum(np.abs(y_test - Y_pred))/len(y_test)\n",
        "\n",
        "\n",
        "              \n",
        "    print(\"MSE:\", mse)\n",
        "    print(\"R-squared:\", r2*100) \n",
        "    print(\"MAE:\", mae)\n",
        "\n",
        "if __name__ == \"__main__\" :     \n",
        "    main()"
      ]
    },
    {
      "cell_type": "markdown",
      "metadata": {
        "id": "eVAcLokSxlIw"
      },
      "source": [
        "#Random search without sklearn"
      ]
    },
    {
      "cell_type": "code",
      "execution_count": 16,
      "metadata": {
        "colab": {
          "base_uri": "https://localhost:8080/"
        },
        "id": "C_Fot-nDAyqy",
        "outputId": "1c4b10e6-e18e-4a88-944b-04a8609317ec"
      },
      "outputs": [
        {
          "output_type": "stream",
          "name": "stdout",
          "text": [
            "Best alpha: 0.15199\n",
            "Best R2 score: 78.40717\n"
          ]
        }
      ],
      "source": [
        "\n",
        "# Define Ridge Regression function\n",
        "def ridge_regression(alpha, X_train, X_test, y_train, y_test):\n",
        "    # Fit Ridge Regression model with given alpha\n",
        "    model = np.linalg.inv(X_train.T.dot(X_train) + alpha*np.identity(X_train.shape[1])).dot(X_train.T).dot(y_train)\n",
        "    \n",
        "    # Predict on test set\n",
        "    y_pred = X_test.dot(model)\n",
        "     #would contain the predicted output values for each corresponding input sample in X_test, \n",
        "         #based on the learned patterns in the trained model.\n",
        "    \n",
        "    # Calculate R2 score\n",
        "    r2 = 1 - np.sum((y_test - Y_pred)**2) / np.sum((y_test -np.mean(y_test))**2)\n",
        "    \n",
        "    return r2\n",
        "\n",
        "# Define range of alpha values to search over\n",
        "alphas = np.logspace(-3, 3, num=100)\n",
        "\n",
        "# Define number of iterations for random search\n",
        "n_iter = 10\n",
        "\n",
        "# Initialize best hyperparameters and R2 score\n",
        "best_alpha = None\n",
        "best_r2 = -np.inf\n",
        "\n",
        "# Perform random search\n",
        "for i in range(n_iter):\n",
        "    # Select random alpha value\n",
        "    alpha = np.random.choice(alphas)\n",
        "    \n",
        "    # Compute R2 score for Ridge Regression with this alpha\n",
        "    r2 = ridge_regression(alpha, X_train, X_test, y_train, y_test)\n",
        "    \n",
        "    # Update best hyperparameters and R2 score if necessary\n",
        "    if r2 > best_r2:\n",
        "        best_alpha = alpha\n",
        "        best_r2 = r2\n",
        "        \n",
        "# Print best hyperparameters and R2 score\n",
        "print(\"Best alpha: {:.5f}\".format(best_alpha))\n",
        "print(\"Best R2 score: {:.5f}\".format(best_r2*100))\n"
      ]
    },
    {
      "cell_type": "markdown",
      "source": [
        " fits a Ridge regression model to the training set and computing the coefficients of the linear regression model that best fits the data while also minimizing the sum of squared errors and the Ridge penalty term."
      ],
      "metadata": {
        "id": "PAvJaAfP-joS"
      }
    },
    {
      "cell_type": "code",
      "source": [
        "model = RidgeRegression( iterations = 1000,                             \n",
        "                            learning_rate = 0.01, l2_penality = 0.15199)\n",
        "model.fit( X_train, y_train )"
      ],
      "metadata": {
        "colab": {
          "base_uri": "https://localhost:8080/"
        },
        "id": "DrWkbhtupVtI",
        "outputId": "ca389e3d-794b-4074-d349-225dbe18820d"
      },
      "execution_count": 22,
      "outputs": [
        {
          "output_type": "execute_result",
          "data": {
            "text/plain": [
              "<__main__.RidgeRegression at 0x7f1efa623b20>"
            ]
          },
          "metadata": {},
          "execution_count": 22
        }
      ]
    },
    {
      "cell_type": "code",
      "source": [
        "Y_pred = model.predict( X_test ) "
      ],
      "metadata": {
        "id": "WDta9lsspasA"
      },
      "execution_count": 23,
      "outputs": []
    },
    {
      "cell_type": "code",
      "source": [
        "mae = np.sum(np.abs(y_test - Y_pred))/len(y_test)\n",
        "mae"
      ],
      "metadata": {
        "colab": {
          "base_uri": "https://localhost:8080/"
        },
        "id": "cFZGMV0GpXUY",
        "outputId": "6fdb7ba1-ea32-415c-9a28-b96ab5c11057"
      },
      "execution_count": 24,
      "outputs": [
        {
          "output_type": "execute_result",
          "data": {
            "text/plain": [
              "1.9555976424840593"
            ]
          },
          "metadata": {},
          "execution_count": 24
        }
      ]
    },
    {
      "cell_type": "code",
      "source": [
        "mse = np.mean((Y_pred - y_test)**2)\n",
        "mse"
      ],
      "metadata": {
        "colab": {
          "base_uri": "https://localhost:8080/"
        },
        "id": "soutNIEIqOWZ",
        "outputId": "17b9c210-c6c4-45a3-c9ae-2bd564264278"
      },
      "execution_count": 25,
      "outputs": [
        {
          "output_type": "execute_result",
          "data": {
            "text/plain": [
              "5.935633402011861"
            ]
          },
          "metadata": {},
          "execution_count": 25
        }
      ]
    },
    {
      "cell_type": "markdown",
      "source": [
        "#Summary"
      ],
      "metadata": {
        "id": "0MYZbNA5rr_r"
      }
    },
    {
      "cell_type": "code",
      "execution_count": 26,
      "metadata": {
        "colab": {
          "base_uri": "https://localhost:8080/",
          "height": 143
        },
        "id": "s73_X3ykAyqz",
        "outputId": "33f5b563-1020-48c7-ca0f-808845a9eaaf"
      },
      "outputs": [
        {
          "output_type": "execute_result",
          "data": {
            "text/plain": [
              "          Model   R2 Score       MSE       MAE\n",
              "0         Ridge  78.407174  5.942322  1.956757\n",
              "1    gridsearch  84.959449  4.139143  1.627415\n",
              "2  randomsearch  78.407170  5.935633  1.955598"
            ],
            "text/html": [
              "\n",
              "  <div id=\"df-74baf07f-83e6-4f19-82ba-d40f64984538\">\n",
              "    <div class=\"colab-df-container\">\n",
              "      <div>\n",
              "<style scoped>\n",
              "    .dataframe tbody tr th:only-of-type {\n",
              "        vertical-align: middle;\n",
              "    }\n",
              "\n",
              "    .dataframe tbody tr th {\n",
              "        vertical-align: top;\n",
              "    }\n",
              "\n",
              "    .dataframe thead th {\n",
              "        text-align: right;\n",
              "    }\n",
              "</style>\n",
              "<table border=\"1\" class=\"dataframe\">\n",
              "  <thead>\n",
              "    <tr style=\"text-align: right;\">\n",
              "      <th></th>\n",
              "      <th>Model</th>\n",
              "      <th>R2 Score</th>\n",
              "      <th>MSE</th>\n",
              "      <th>MAE</th>\n",
              "    </tr>\n",
              "  </thead>\n",
              "  <tbody>\n",
              "    <tr>\n",
              "      <th>0</th>\n",
              "      <td>Ridge</td>\n",
              "      <td>78.407174</td>\n",
              "      <td>5.942322</td>\n",
              "      <td>1.956757</td>\n",
              "    </tr>\n",
              "    <tr>\n",
              "      <th>1</th>\n",
              "      <td>gridsearch</td>\n",
              "      <td>84.959449</td>\n",
              "      <td>4.139143</td>\n",
              "      <td>1.627415</td>\n",
              "    </tr>\n",
              "    <tr>\n",
              "      <th>2</th>\n",
              "      <td>randomsearch</td>\n",
              "      <td>78.407170</td>\n",
              "      <td>5.935633</td>\n",
              "      <td>1.955598</td>\n",
              "    </tr>\n",
              "  </tbody>\n",
              "</table>\n",
              "</div>\n",
              "      <button class=\"colab-df-convert\" onclick=\"convertToInteractive('df-74baf07f-83e6-4f19-82ba-d40f64984538')\"\n",
              "              title=\"Convert this dataframe to an interactive table.\"\n",
              "              style=\"display:none;\">\n",
              "        \n",
              "  <svg xmlns=\"http://www.w3.org/2000/svg\" height=\"24px\"viewBox=\"0 0 24 24\"\n",
              "       width=\"24px\">\n",
              "    <path d=\"M0 0h24v24H0V0z\" fill=\"none\"/>\n",
              "    <path d=\"M18.56 5.44l.94 2.06.94-2.06 2.06-.94-2.06-.94-.94-2.06-.94 2.06-2.06.94zm-11 1L8.5 8.5l.94-2.06 2.06-.94-2.06-.94L8.5 2.5l-.94 2.06-2.06.94zm10 10l.94 2.06.94-2.06 2.06-.94-2.06-.94-.94-2.06-.94 2.06-2.06.94z\"/><path d=\"M17.41 7.96l-1.37-1.37c-.4-.4-.92-.59-1.43-.59-.52 0-1.04.2-1.43.59L10.3 9.45l-7.72 7.72c-.78.78-.78 2.05 0 2.83L4 21.41c.39.39.9.59 1.41.59.51 0 1.02-.2 1.41-.59l7.78-7.78 2.81-2.81c.8-.78.8-2.07 0-2.86zM5.41 20L4 18.59l7.72-7.72 1.47 1.35L5.41 20z\"/>\n",
              "  </svg>\n",
              "      </button>\n",
              "      \n",
              "  <style>\n",
              "    .colab-df-container {\n",
              "      display:flex;\n",
              "      flex-wrap:wrap;\n",
              "      gap: 12px;\n",
              "    }\n",
              "\n",
              "    .colab-df-convert {\n",
              "      background-color: #E8F0FE;\n",
              "      border: none;\n",
              "      border-radius: 50%;\n",
              "      cursor: pointer;\n",
              "      display: none;\n",
              "      fill: #1967D2;\n",
              "      height: 32px;\n",
              "      padding: 0 0 0 0;\n",
              "      width: 32px;\n",
              "    }\n",
              "\n",
              "    .colab-df-convert:hover {\n",
              "      background-color: #E2EBFA;\n",
              "      box-shadow: 0px 1px 2px rgba(60, 64, 67, 0.3), 0px 1px 3px 1px rgba(60, 64, 67, 0.15);\n",
              "      fill: #174EA6;\n",
              "    }\n",
              "\n",
              "    [theme=dark] .colab-df-convert {\n",
              "      background-color: #3B4455;\n",
              "      fill: #D2E3FC;\n",
              "    }\n",
              "\n",
              "    [theme=dark] .colab-df-convert:hover {\n",
              "      background-color: #434B5C;\n",
              "      box-shadow: 0px 1px 3px 1px rgba(0, 0, 0, 0.15);\n",
              "      filter: drop-shadow(0px 1px 2px rgba(0, 0, 0, 0.3));\n",
              "      fill: #FFFFFF;\n",
              "    }\n",
              "  </style>\n",
              "\n",
              "      <script>\n",
              "        const buttonEl =\n",
              "          document.querySelector('#df-74baf07f-83e6-4f19-82ba-d40f64984538 button.colab-df-convert');\n",
              "        buttonEl.style.display =\n",
              "          google.colab.kernel.accessAllowed ? 'block' : 'none';\n",
              "\n",
              "        async function convertToInteractive(key) {\n",
              "          const element = document.querySelector('#df-74baf07f-83e6-4f19-82ba-d40f64984538');\n",
              "          const dataTable =\n",
              "            await google.colab.kernel.invokeFunction('convertToInteractive',\n",
              "                                                     [key], {});\n",
              "          if (!dataTable) return;\n",
              "\n",
              "          const docLinkHtml = 'Like what you see? Visit the ' +\n",
              "            '<a target=\"_blank\" href=https://colab.research.google.com/notebooks/data_table.ipynb>data table notebook</a>'\n",
              "            + ' to learn more about interactive tables.';\n",
              "          element.innerHTML = '';\n",
              "          dataTable['output_type'] = 'display_data';\n",
              "          await google.colab.output.renderOutput(dataTable, element);\n",
              "          const docLink = document.createElement('div');\n",
              "          docLink.innerHTML = docLinkHtml;\n",
              "          element.appendChild(docLink);\n",
              "        }\n",
              "      </script>\n",
              "    </div>\n",
              "  </div>\n",
              "  "
            ]
          },
          "metadata": {},
          "execution_count": 26
        }
      ],
      "source": [
        "df = [['Ridge',78.40717403191994,5.942321714386781,1.9567567527475382], ['gridsearch',84.95944861467768,4.13914302951694,1.6274147966317485],['randomsearch',78.40717,5.935633402011861,1.9555976424840593]]\n",
        "summary = pd.DataFrame(df, columns=['Model', 'R2 Score', 'MSE','MAE'])\n",
        "summary"
      ]
    }
  ],
  "metadata": {
    "colab": {
      "provenance": [],
      "include_colab_link": true
    },
    "kernelspec": {
      "display_name": "Python 3",
      "language": "python",
      "name": "python3"
    },
    "language_info": {
      "codemirror_mode": {
        "name": "ipython",
        "version": 3
      },
      "file_extension": ".py",
      "mimetype": "text/x-python",
      "name": "python",
      "nbconvert_exporter": "python",
      "pygments_lexer": "ipython3",
      "version": "3.7.0"
    },
    "vscode": {
      "interpreter": {
        "hash": "643a47424beb36352ffe22be6206234b6bc868893f6b52b5682a155db092888b"
      }
    }
  },
  "nbformat": 4,
  "nbformat_minor": 0
}