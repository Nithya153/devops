{
  "cells": [
    {
      "cell_type": "markdown",
      "metadata": {
        "id": "view-in-github",
        "colab_type": "text"
      },
      "source": [
        "<a href=\"https://colab.research.google.com/github/Nithya153/devops/blob/main/w_(2).ipynb\" target=\"_parent\"><img src=\"https://colab.research.google.com/assets/colab-badge.svg\" alt=\"Open In Colab\"/></a>"
      ]
    },
    {
      "cell_type": "code",
      "execution_count": 23,
      "metadata": {
        "id": "XYKXfumIJx9n"
      },
      "outputs": [],
      "source": [
        "import numpy as np\n",
        "import pandas as pd"
      ]
    },
    {
      "cell_type": "code",
      "execution_count": 24,
      "metadata": {
        "colab": {
          "base_uri": "https://localhost:8080/",
          "height": 206
        },
        "id": "bj7yqQ_UJ-Ih",
        "outputId": "89b98f19-8a57-4127-d11f-4a31dc6285ce"
      },
      "outputs": [
        {
          "output_type": "execute_result",
          "data": {
            "text/plain": [
              "      TV  Radio  Newspaper  Sales\n",
              "0  230.1   37.8       69.2   22.1\n",
              "1   44.5   39.3       45.1   10.4\n",
              "2   17.2   45.9       69.3   12.0\n",
              "3  151.5   41.3       58.5   16.5\n",
              "4  180.8   10.8       58.4   17.9"
            ],
            "text/html": [
              "\n",
              "  <div id=\"df-c188d8e3-ad8f-41bc-91f3-d71562a92c64\">\n",
              "    <div class=\"colab-df-container\">\n",
              "      <div>\n",
              "<style scoped>\n",
              "    .dataframe tbody tr th:only-of-type {\n",
              "        vertical-align: middle;\n",
              "    }\n",
              "\n",
              "    .dataframe tbody tr th {\n",
              "        vertical-align: top;\n",
              "    }\n",
              "\n",
              "    .dataframe thead th {\n",
              "        text-align: right;\n",
              "    }\n",
              "</style>\n",
              "<table border=\"1\" class=\"dataframe\">\n",
              "  <thead>\n",
              "    <tr style=\"text-align: right;\">\n",
              "      <th></th>\n",
              "      <th>TV</th>\n",
              "      <th>Radio</th>\n",
              "      <th>Newspaper</th>\n",
              "      <th>Sales</th>\n",
              "    </tr>\n",
              "  </thead>\n",
              "  <tbody>\n",
              "    <tr>\n",
              "      <th>0</th>\n",
              "      <td>230.1</td>\n",
              "      <td>37.8</td>\n",
              "      <td>69.2</td>\n",
              "      <td>22.1</td>\n",
              "    </tr>\n",
              "    <tr>\n",
              "      <th>1</th>\n",
              "      <td>44.5</td>\n",
              "      <td>39.3</td>\n",
              "      <td>45.1</td>\n",
              "      <td>10.4</td>\n",
              "    </tr>\n",
              "    <tr>\n",
              "      <th>2</th>\n",
              "      <td>17.2</td>\n",
              "      <td>45.9</td>\n",
              "      <td>69.3</td>\n",
              "      <td>12.0</td>\n",
              "    </tr>\n",
              "    <tr>\n",
              "      <th>3</th>\n",
              "      <td>151.5</td>\n",
              "      <td>41.3</td>\n",
              "      <td>58.5</td>\n",
              "      <td>16.5</td>\n",
              "    </tr>\n",
              "    <tr>\n",
              "      <th>4</th>\n",
              "      <td>180.8</td>\n",
              "      <td>10.8</td>\n",
              "      <td>58.4</td>\n",
              "      <td>17.9</td>\n",
              "    </tr>\n",
              "  </tbody>\n",
              "</table>\n",
              "</div>\n",
              "      <button class=\"colab-df-convert\" onclick=\"convertToInteractive('df-c188d8e3-ad8f-41bc-91f3-d71562a92c64')\"\n",
              "              title=\"Convert this dataframe to an interactive table.\"\n",
              "              style=\"display:none;\">\n",
              "        \n",
              "  <svg xmlns=\"http://www.w3.org/2000/svg\" height=\"24px\"viewBox=\"0 0 24 24\"\n",
              "       width=\"24px\">\n",
              "    <path d=\"M0 0h24v24H0V0z\" fill=\"none\"/>\n",
              "    <path d=\"M18.56 5.44l.94 2.06.94-2.06 2.06-.94-2.06-.94-.94-2.06-.94 2.06-2.06.94zm-11 1L8.5 8.5l.94-2.06 2.06-.94-2.06-.94L8.5 2.5l-.94 2.06-2.06.94zm10 10l.94 2.06.94-2.06 2.06-.94-2.06-.94-.94-2.06-.94 2.06-2.06.94z\"/><path d=\"M17.41 7.96l-1.37-1.37c-.4-.4-.92-.59-1.43-.59-.52 0-1.04.2-1.43.59L10.3 9.45l-7.72 7.72c-.78.78-.78 2.05 0 2.83L4 21.41c.39.39.9.59 1.41.59.51 0 1.02-.2 1.41-.59l7.78-7.78 2.81-2.81c.8-.78.8-2.07 0-2.86zM5.41 20L4 18.59l7.72-7.72 1.47 1.35L5.41 20z\"/>\n",
              "  </svg>\n",
              "      </button>\n",
              "      \n",
              "  <style>\n",
              "    .colab-df-container {\n",
              "      display:flex;\n",
              "      flex-wrap:wrap;\n",
              "      gap: 12px;\n",
              "    }\n",
              "\n",
              "    .colab-df-convert {\n",
              "      background-color: #E8F0FE;\n",
              "      border: none;\n",
              "      border-radius: 50%;\n",
              "      cursor: pointer;\n",
              "      display: none;\n",
              "      fill: #1967D2;\n",
              "      height: 32px;\n",
              "      padding: 0 0 0 0;\n",
              "      width: 32px;\n",
              "    }\n",
              "\n",
              "    .colab-df-convert:hover {\n",
              "      background-color: #E2EBFA;\n",
              "      box-shadow: 0px 1px 2px rgba(60, 64, 67, 0.3), 0px 1px 3px 1px rgba(60, 64, 67, 0.15);\n",
              "      fill: #174EA6;\n",
              "    }\n",
              "\n",
              "    [theme=dark] .colab-df-convert {\n",
              "      background-color: #3B4455;\n",
              "      fill: #D2E3FC;\n",
              "    }\n",
              "\n",
              "    [theme=dark] .colab-df-convert:hover {\n",
              "      background-color: #434B5C;\n",
              "      box-shadow: 0px 1px 3px 1px rgba(0, 0, 0, 0.15);\n",
              "      filter: drop-shadow(0px 1px 2px rgba(0, 0, 0, 0.3));\n",
              "      fill: #FFFFFF;\n",
              "    }\n",
              "  </style>\n",
              "\n",
              "      <script>\n",
              "        const buttonEl =\n",
              "          document.querySelector('#df-c188d8e3-ad8f-41bc-91f3-d71562a92c64 button.colab-df-convert');\n",
              "        buttonEl.style.display =\n",
              "          google.colab.kernel.accessAllowed ? 'block' : 'none';\n",
              "\n",
              "        async function convertToInteractive(key) {\n",
              "          const element = document.querySelector('#df-c188d8e3-ad8f-41bc-91f3-d71562a92c64');\n",
              "          const dataTable =\n",
              "            await google.colab.kernel.invokeFunction('convertToInteractive',\n",
              "                                                     [key], {});\n",
              "          if (!dataTable) return;\n",
              "\n",
              "          const docLinkHtml = 'Like what you see? Visit the ' +\n",
              "            '<a target=\"_blank\" href=https://colab.research.google.com/notebooks/data_table.ipynb>data table notebook</a>'\n",
              "            + ' to learn more about interactive tables.';\n",
              "          element.innerHTML = '';\n",
              "          dataTable['output_type'] = 'display_data';\n",
              "          await google.colab.output.renderOutput(dataTable, element);\n",
              "          const docLink = document.createElement('div');\n",
              "          docLink.innerHTML = docLinkHtml;\n",
              "          element.appendChild(docLink);\n",
              "        }\n",
              "      </script>\n",
              "    </div>\n",
              "  </div>\n",
              "  "
            ]
          },
          "metadata": {},
          "execution_count": 24
        }
      ],
      "source": [
        "df = pd.read_csv(\"/content/company.csv\")\n",
        "df.head(5)"
      ]
    },
    {
      "cell_type": "code",
      "execution_count": 25,
      "metadata": {
        "colab": {
          "base_uri": "https://localhost:8080/",
          "height": 300
        },
        "id": "UTB28Jv0WPxZ",
        "outputId": "b3d472c4-7c44-44cd-e91d-369110cb833d"
      },
      "outputs": [
        {
          "output_type": "execute_result",
          "data": {
            "text/plain": [
              "               TV       Radio   Newspaper       Sales\n",
              "count  200.000000  200.000000  200.000000  200.000000\n",
              "mean   147.042500   23.264000   30.554000   15.130500\n",
              "std     85.854236   14.846809   21.778621    5.283892\n",
              "min      0.700000    0.000000    0.300000    1.600000\n",
              "25%     74.375000    9.975000   12.750000   11.000000\n",
              "50%    149.750000   22.900000   25.750000   16.000000\n",
              "75%    218.825000   36.525000   45.100000   19.050000\n",
              "max    296.400000   49.600000  114.000000   27.000000"
            ],
            "text/html": [
              "\n",
              "  <div id=\"df-11394751-7d40-4a23-9f34-bac146f94912\">\n",
              "    <div class=\"colab-df-container\">\n",
              "      <div>\n",
              "<style scoped>\n",
              "    .dataframe tbody tr th:only-of-type {\n",
              "        vertical-align: middle;\n",
              "    }\n",
              "\n",
              "    .dataframe tbody tr th {\n",
              "        vertical-align: top;\n",
              "    }\n",
              "\n",
              "    .dataframe thead th {\n",
              "        text-align: right;\n",
              "    }\n",
              "</style>\n",
              "<table border=\"1\" class=\"dataframe\">\n",
              "  <thead>\n",
              "    <tr style=\"text-align: right;\">\n",
              "      <th></th>\n",
              "      <th>TV</th>\n",
              "      <th>Radio</th>\n",
              "      <th>Newspaper</th>\n",
              "      <th>Sales</th>\n",
              "    </tr>\n",
              "  </thead>\n",
              "  <tbody>\n",
              "    <tr>\n",
              "      <th>count</th>\n",
              "      <td>200.000000</td>\n",
              "      <td>200.000000</td>\n",
              "      <td>200.000000</td>\n",
              "      <td>200.000000</td>\n",
              "    </tr>\n",
              "    <tr>\n",
              "      <th>mean</th>\n",
              "      <td>147.042500</td>\n",
              "      <td>23.264000</td>\n",
              "      <td>30.554000</td>\n",
              "      <td>15.130500</td>\n",
              "    </tr>\n",
              "    <tr>\n",
              "      <th>std</th>\n",
              "      <td>85.854236</td>\n",
              "      <td>14.846809</td>\n",
              "      <td>21.778621</td>\n",
              "      <td>5.283892</td>\n",
              "    </tr>\n",
              "    <tr>\n",
              "      <th>min</th>\n",
              "      <td>0.700000</td>\n",
              "      <td>0.000000</td>\n",
              "      <td>0.300000</td>\n",
              "      <td>1.600000</td>\n",
              "    </tr>\n",
              "    <tr>\n",
              "      <th>25%</th>\n",
              "      <td>74.375000</td>\n",
              "      <td>9.975000</td>\n",
              "      <td>12.750000</td>\n",
              "      <td>11.000000</td>\n",
              "    </tr>\n",
              "    <tr>\n",
              "      <th>50%</th>\n",
              "      <td>149.750000</td>\n",
              "      <td>22.900000</td>\n",
              "      <td>25.750000</td>\n",
              "      <td>16.000000</td>\n",
              "    </tr>\n",
              "    <tr>\n",
              "      <th>75%</th>\n",
              "      <td>218.825000</td>\n",
              "      <td>36.525000</td>\n",
              "      <td>45.100000</td>\n",
              "      <td>19.050000</td>\n",
              "    </tr>\n",
              "    <tr>\n",
              "      <th>max</th>\n",
              "      <td>296.400000</td>\n",
              "      <td>49.600000</td>\n",
              "      <td>114.000000</td>\n",
              "      <td>27.000000</td>\n",
              "    </tr>\n",
              "  </tbody>\n",
              "</table>\n",
              "</div>\n",
              "      <button class=\"colab-df-convert\" onclick=\"convertToInteractive('df-11394751-7d40-4a23-9f34-bac146f94912')\"\n",
              "              title=\"Convert this dataframe to an interactive table.\"\n",
              "              style=\"display:none;\">\n",
              "        \n",
              "  <svg xmlns=\"http://www.w3.org/2000/svg\" height=\"24px\"viewBox=\"0 0 24 24\"\n",
              "       width=\"24px\">\n",
              "    <path d=\"M0 0h24v24H0V0z\" fill=\"none\"/>\n",
              "    <path d=\"M18.56 5.44l.94 2.06.94-2.06 2.06-.94-2.06-.94-.94-2.06-.94 2.06-2.06.94zm-11 1L8.5 8.5l.94-2.06 2.06-.94-2.06-.94L8.5 2.5l-.94 2.06-2.06.94zm10 10l.94 2.06.94-2.06 2.06-.94-2.06-.94-.94-2.06-.94 2.06-2.06.94z\"/><path d=\"M17.41 7.96l-1.37-1.37c-.4-.4-.92-.59-1.43-.59-.52 0-1.04.2-1.43.59L10.3 9.45l-7.72 7.72c-.78.78-.78 2.05 0 2.83L4 21.41c.39.39.9.59 1.41.59.51 0 1.02-.2 1.41-.59l7.78-7.78 2.81-2.81c.8-.78.8-2.07 0-2.86zM5.41 20L4 18.59l7.72-7.72 1.47 1.35L5.41 20z\"/>\n",
              "  </svg>\n",
              "      </button>\n",
              "      \n",
              "  <style>\n",
              "    .colab-df-container {\n",
              "      display:flex;\n",
              "      flex-wrap:wrap;\n",
              "      gap: 12px;\n",
              "    }\n",
              "\n",
              "    .colab-df-convert {\n",
              "      background-color: #E8F0FE;\n",
              "      border: none;\n",
              "      border-radius: 50%;\n",
              "      cursor: pointer;\n",
              "      display: none;\n",
              "      fill: #1967D2;\n",
              "      height: 32px;\n",
              "      padding: 0 0 0 0;\n",
              "      width: 32px;\n",
              "    }\n",
              "\n",
              "    .colab-df-convert:hover {\n",
              "      background-color: #E2EBFA;\n",
              "      box-shadow: 0px 1px 2px rgba(60, 64, 67, 0.3), 0px 1px 3px 1px rgba(60, 64, 67, 0.15);\n",
              "      fill: #174EA6;\n",
              "    }\n",
              "\n",
              "    [theme=dark] .colab-df-convert {\n",
              "      background-color: #3B4455;\n",
              "      fill: #D2E3FC;\n",
              "    }\n",
              "\n",
              "    [theme=dark] .colab-df-convert:hover {\n",
              "      background-color: #434B5C;\n",
              "      box-shadow: 0px 1px 3px 1px rgba(0, 0, 0, 0.15);\n",
              "      filter: drop-shadow(0px 1px 2px rgba(0, 0, 0, 0.3));\n",
              "      fill: #FFFFFF;\n",
              "    }\n",
              "  </style>\n",
              "\n",
              "      <script>\n",
              "        const buttonEl =\n",
              "          document.querySelector('#df-11394751-7d40-4a23-9f34-bac146f94912 button.colab-df-convert');\n",
              "        buttonEl.style.display =\n",
              "          google.colab.kernel.accessAllowed ? 'block' : 'none';\n",
              "\n",
              "        async function convertToInteractive(key) {\n",
              "          const element = document.querySelector('#df-11394751-7d40-4a23-9f34-bac146f94912');\n",
              "          const dataTable =\n",
              "            await google.colab.kernel.invokeFunction('convertToInteractive',\n",
              "                                                     [key], {});\n",
              "          if (!dataTable) return;\n",
              "\n",
              "          const docLinkHtml = 'Like what you see? Visit the ' +\n",
              "            '<a target=\"_blank\" href=https://colab.research.google.com/notebooks/data_table.ipynb>data table notebook</a>'\n",
              "            + ' to learn more about interactive tables.';\n",
              "          element.innerHTML = '';\n",
              "          dataTable['output_type'] = 'display_data';\n",
              "          await google.colab.output.renderOutput(dataTable, element);\n",
              "          const docLink = document.createElement('div');\n",
              "          docLink.innerHTML = docLinkHtml;\n",
              "          element.appendChild(docLink);\n",
              "        }\n",
              "      </script>\n",
              "    </div>\n",
              "  </div>\n",
              "  "
            ]
          },
          "metadata": {},
          "execution_count": 25
        }
      ],
      "source": [
        "df.describe()"
      ]
    },
    {
      "cell_type": "code",
      "execution_count": 26,
      "metadata": {
        "id": "RneyZmXLKOpl"
      },
      "outputs": [],
      "source": [
        "ratio = 0.7\n",
        " \n",
        "rows = df.shape[0]\n",
        "train_size = int(rows*ratio)\n",
        "\n",
        "df_train = df[0:train_size]\n",
        "df_test = df[train_size:]"
      ]
    },
    {
      "cell_type": "code",
      "execution_count": 27,
      "metadata": {
        "id": "FsFuFhOCKOgR"
      },
      "outputs": [],
      "source": [
        "X_train = df_train.drop(['Sales'], axis = 1).values ## independent features"
      ]
    },
    {
      "cell_type": "code",
      "execution_count": 28,
      "metadata": {
        "id": "M1hSdGWtLFUc"
      },
      "outputs": [],
      "source": [
        "y_train = df_train['Sales'].values  ## dependent features"
      ]
    },
    {
      "cell_type": "code",
      "execution_count": 29,
      "metadata": {
        "id": "1wExj8GwLLjb"
      },
      "outputs": [],
      "source": [
        "X_test = df_test.drop(['Sales'], axis = 1).values"
      ]
    },
    {
      "cell_type": "code",
      "execution_count": 30,
      "metadata": {
        "id": "crWYnJzbLLcp"
      },
      "outputs": [],
      "source": [
        "y_test = df_test['Sales'].values"
      ]
    },
    {
      "cell_type": "code",
      "execution_count": 31,
      "metadata": {
        "id": "01ZFqcaBLLXs"
      },
      "outputs": [],
      "source": [
        "X_train = (X_train - np.mean(X_train)) / np.std(X_train)\n",
        "X_test = (X_test - np.mean(X_test)) / np.std(X_test)"
      ]
    },
    {
      "cell_type": "code",
      "execution_count": 32,
      "metadata": {
        "id": "xuDpixLXLhgX"
      },
      "outputs": [],
      "source": [
        "class RidgeRegression() :\n",
        "      \n",
        "    def __init__( self, learning_rate, iterations, l2_penality ) :\n",
        "          \n",
        "        self.learning_rate = learning_rate        \n",
        "        self.iterations = iterations        \n",
        "        self.l2_penality = l2_penality\n",
        "          \n",
        "    # Function for model training            \n",
        "    def fit( self, X, Y ) :\n",
        "          \n",
        "        # no_of_training_examples, no_of_features        \n",
        "        self.m, self.n = X.shape\n",
        "          \n",
        "        # weight initialization        \n",
        "        self.W = np.zeros( self.n )\n",
        "          \n",
        "        self.b = 0        \n",
        "        self.X = X        \n",
        "        self.Y = Y\n",
        "          \n",
        "        # gradient descent learning\n",
        "                  \n",
        "        for i in range( self.iterations ) :            \n",
        "            self.update_weights()            \n",
        "        return self\n",
        "      \n",
        "    # Helper function to update weights in gradient descent\n",
        "      \n",
        "    def update_weights( self ) :           \n",
        "        Y_pred = self.predict( self.X )\n",
        "          \n",
        "        # calculate gradients      \n",
        "        dW = ( - ( 2 * ( self.X.T ).dot( self.Y - Y_pred ) ) +               \n",
        "               ( 2 * self.l2_penality * self.W ) ) / self.m     \n",
        "        db = - 2 * np.sum( self.Y - Y_pred ) / self.m \n",
        "          \n",
        "        # update weights    \n",
        "        self.W = self.W - self.learning_rate * dW    \n",
        "        self.b = self.b - self.learning_rate * db        \n",
        "        return self\n",
        "      \n",
        "    # Hypothetical function  h( x ) \n",
        "    def predict( self, X ) :    \n",
        "        return X.dot( self.W ) + self.b\n",
        "      \n",
        "# Driver code\n",
        "  \n",
        "def main() :\n",
        "      \n",
        "    \n",
        "    # Model training    \n",
        "    model = RidgeRegression( iterations = 1000,                             \n",
        "                            learning_rate = 0.01, l2_penality = 0.01 )\n",
        "    model.fit( X_train, y_train )\n",
        "      \n",
        "    # Prediction on test set\n",
        "    Y_pred = model.predict( X_test )    \n",
        "\n",
        "      \n",
        "   \n",
        "      \n",
        "if __name__ == \"__main__\" : \n",
        "    main()"
      ]
    },
    {
      "cell_type": "code",
      "execution_count": 33,
      "metadata": {
        "colab": {
          "base_uri": "https://localhost:8080/"
        },
        "id": "6Tv2QQ9wLhbH",
        "outputId": "2aeb5dbd-ce7d-41ec-a57c-79c505d8f6f5"
      },
      "outputs": [
        {
          "output_type": "execute_result",
          "data": {
            "text/plain": [
              "<__main__.RidgeRegression at 0x7f3169a650d0>"
            ]
          },
          "metadata": {},
          "execution_count": 33
        }
      ],
      "source": [
        "model = RidgeRegression( iterations = 1000,                             \n",
        "                            learning_rate = 0.01, l2_penality = 0.01)\n",
        "model.fit( X_train, y_train )"
      ]
    },
    {
      "cell_type": "code",
      "execution_count": 34,
      "metadata": {
        "id": "zLWoAhTcLhWa"
      },
      "outputs": [],
      "source": [
        "Y_pred = model.predict( X_test ) "
      ]
    },
    {
      "cell_type": "code",
      "execution_count": 35,
      "metadata": {
        "colab": {
          "base_uri": "https://localhost:8080/"
        },
        "id": "6m-tZuqhLhR_",
        "outputId": "8f291f96-d003-4ef2-e3e4-c32d1633de96"
      },
      "outputs": [
        {
          "output_type": "stream",
          "name": "stdout",
          "text": [
            "MSE: 5.942321714386781\n",
            "R-squared: 78.40717403191994\n",
            "MAE: 1.9567567527475382\n"
          ]
        }
      ],
      "source": [
        "mse = np.mean((Y_pred - y_test)**2)\n",
        "r2 = 1 - np.sum((y_test - Y_pred)**2) / np.sum((y_test -np.mean(y_test))**2)\n",
        "mae = np.sum(np.abs(y_test - Y_pred))/len(y_test)\n",
        "\n",
        "print(\"MSE:\", mse)\n",
        "print(\"R-squared:\", r2*100)\n",
        "print(\"MAE:\", mae)"
      ]
    },
    {
      "cell_type": "markdown",
      "source": [
        "grid search without sklearn"
      ],
      "metadata": {
        "id": "ALObLOSq7DwY"
      }
    },
    {
      "cell_type": "code",
      "execution_count": 36,
      "metadata": {
        "colab": {
          "base_uri": "https://localhost:8080/"
        },
        "id": "KPXTexPuMAOa",
        "outputId": "6bcc9498-ef09-4ad9-f321-20cd69c67657"
      },
      "outputs": [
        {
          "output_type": "stream",
          "name": "stdout",
          "text": [
            "MSE: 4.13914302951694\n",
            "R-squared: 84.95944861467768\n",
            "MAE: 1.6274147966317485\n"
          ]
        }
      ],
      "source": [
        "\n",
        "  \n",
        "def main() :  \n",
        "      \n",
        "    # Model training    \n",
        "    max_accuracy = 0\n",
        "      \n",
        "    # learning_rate choices    \n",
        "    learning_rates = [ 0.1, 0.2, 0.3, 0.4, 0.5, \n",
        "                      0.01, 0.02, 0.03, 0.04, 0.05]\n",
        "      \n",
        "    # iterations choices    \n",
        "    iterations = [ 100, 200, 300, 400, 500 ]\n",
        "\n",
        "    #l2 penalty\n",
        "    l2_penality = [0.1,1,10,100,0.01,0.001]\n",
        "    \n",
        "      \n",
        "    # available combination of learning_rate and iterations\n",
        "      \n",
        "    parameters = []    \n",
        "    for i in learning_rates :        \n",
        "        for j in iterations :\n",
        "          for l in l2_penality :         \n",
        "            parameters.append( ( i, j, l ) )\n",
        "              \n",
        "    #print(\"Available combinations : \",  parameters )\n",
        "              \n",
        "    # Applying linear searching in list of available combination\n",
        "    # to achieved maximum accuracy on CV set\n",
        "      \n",
        "    for k in range( len( parameters ) ) :        \n",
        "        model = RidgeRegression( learning_rate = parameters[k][0], \n",
        "                                iterations = parameters[k][1], l2_penality = parameters[k][2] )\n",
        "      \n",
        "        model.fit( X_train, y_train )\n",
        "        \n",
        "        # Prediction on validation set\n",
        "        Y_pred = model.predict( X_test )\n",
        "       \n",
        "\n",
        "              \n",
        "        # counter    \n",
        "        count = 0\n",
        "      \n",
        "    mse = np.mean((Y_pred - y_test)**2)\n",
        "    r2 = 1 - np.sum((y_test - Y_pred)**2) / np.sum((y_test -np.mean(y_test))**2)\n",
        "    mae = np.sum(np.abs(y_test - Y_pred))/len(y_test)\n",
        "\n",
        "\n",
        "              \n",
        "    print(\"MSE:\", mse)\n",
        "    print(\"R-squared:\", r2*100) \n",
        "    print(\"MAE:\", mae)\n",
        "\n",
        "if __name__ == \"__main__\" :     \n",
        "    main()"
      ]
    },
    {
      "cell_type": "markdown",
      "source": [
        "grid search with sklearn"
      ],
      "metadata": {
        "id": "uJ8NVLem7AO4"
      }
    },
    {
      "cell_type": "code",
      "execution_count": 37,
      "metadata": {
        "colab": {
          "base_uri": "https://localhost:8080/"
        },
        "id": "crVA_zsEL_xD",
        "outputId": "78ac6d92-69e6-4328-bf23-05490ece1d1d"
      },
      "outputs": [
        {
          "output_type": "stream",
          "name": "stdout",
          "text": [
            "Best hyperparameters: {'alpha': 0.1}\n",
            "Mean squared error: 2.7509716677993126\n"
          ]
        }
      ],
      "source": [
        "import numpy as np\n",
        "import pandas as pd\n",
        "from sklearn.linear_model import Ridge\n",
        "from sklearn.model_selection import GridSearchCV\n",
        "from sklearn.metrics import mean_squared_error\n",
        "\n",
        "\n",
        "\n",
        "# Define the parameter grid to search over\n",
        "param_grid = {'alpha': np.logspace(-4, 4, 9)}\n",
        "\n",
        "# Create a Ridge regression model\n",
        "model = Ridge()\n",
        "\n",
        "# Perform grid search to find the best hyperparameters\n",
        "grid_search = GridSearchCV(model, param_grid, cv=5, scoring='neg_mean_squared_error')\n",
        "grid_search.fit(X_train, y_train)\n",
        "\n",
        "# Print the best hyperparameters and the corresponding mean squared error\n",
        "print(\"Best hyperparameters:\", grid_search.best_params_)\n",
        "print(\"Mean squared error:\", -grid_search.best_score_)\n"
      ]
    },
    {
      "cell_type": "markdown",
      "source": [
        "random search without sklearn"
      ],
      "metadata": {
        "id": "96DCgegY68tC"
      }
    },
    {
      "cell_type": "code",
      "source": [
        "import numpy as np\n",
        "\n",
        "def ridge_regression(X_train, y_train, X_test, y_test, alpha_values):\n",
        "    \"\"\"\n",
        "    Fits a ridge regression model with different alpha values and returns the best model based on validation set performance.\n",
        "    \n",
        "    Parameters:\n",
        "    X_train (numpy array): Training set features\n",
        "    y_train (numpy array): Training set targets\n",
        "    X_val (numpy array): Validation set features\n",
        "    y_val (numpy array): Validation set targets\n",
        "    alpha_values (numpy array): Array of alpha values to test\n",
        "    \n",
        "    Returns:\n",
        "    best_model (numpy array): Coefficients of the best model based on validation set performance\n",
        "    best_alpha (float): Best alpha value\n",
        "    \"\"\"\n",
        "    best_model = None\n",
        "    best_alpha = None\n",
        "    best_score = float('-inf')\n",
        "    num_iterations = 10  # Number of hyperparameter combinations to test\n",
        "    for i in range(num_iterations):\n",
        "        alpha = np.random.choice(alpha_values)  # Randomly select alpha value\n",
        "        \n",
        "        # Fit ridge regression model on training set\n",
        "        XTX = np.dot(X_train.T, X_train)\n",
        "        XTy = np.dot(X_train.T, y_train)\n",
        "        n = X_train.shape[0]\n",
        "        model = np.dot(np.linalg.inv(XTX + alpha * n * np.identity(X_train.shape[1])), XTy)\n",
        "        \n",
        "        # Evaluate model on validation set\n",
        "        Y_pred = np.dot(X_test, model)\n",
        "        score = r_squared(y_test, Y_pred)\n",
        "        \n",
        "        # Update best model if necessary\n",
        "        if score > best_score:\n",
        "            best_model = model\n",
        "            best_alpha = alpha\n",
        "            best_score = score\n",
        "            \n",
        "    return best_model, best_alpha\n",
        "\n",
        "def r_squared(y_test, Y_pred):\n",
        "    \"\"\"\n",
        "    Calculates the R-squared value for a given set of true and predicted target values.\n",
        "    \n",
        "    Parameters:\n",
        "    y_true (numpy array): True target values\n",
        "    y_pred (numpy array): Predicted target values\n",
        "    \n",
        "    Returns:\n",
        "    r_squared (float): R-squared value\n",
        "    \"\"\"\n",
        "    SS_res = np.sum(np.square(y_test - Y_pred))\n",
        "    SS_tot = np.sum(np.square(y_test - np.mean(y_test)))\n",
        "    return 1 - (SS_res / SS_tot)"
      ],
      "metadata": {
        "id": "6bg4rhe05tOk"
      },
      "execution_count": 38,
      "outputs": []
    },
    {
      "cell_type": "code",
      "execution_count": 39,
      "metadata": {
        "colab": {
          "base_uri": "https://localhost:8080/"
        },
        "id": "wAt8SvbDvvUq",
        "outputId": "b2ac1ac2-4823-4804-a87b-c45cad4ad498"
      },
      "outputs": [
        {
          "output_type": "stream",
          "name": "stdout",
          "text": [
            "Best alpha value: 0.1\n",
            "78.40717403191994\n"
          ]
        }
      ],
      "source": [
        "alpha_values = [0.1, 1, 10,5]\n",
        "\n",
        "best_model, best_alpha = ridge_regression(X_train, y_train, X_test, y_test, alpha_values)\n",
        "\n",
        "print(\"Best alpha value:\", best_alpha)\n",
        "r_squared =  r_squared(y_test, Y_pred)\n",
        "print( r_squared*100)\n"
      ]
    },
    {
      "cell_type": "markdown",
      "metadata": {
        "id": "eVAcLokSxlIw"
      },
      "source": [
        "random search with sklearn"
      ]
    },
    {
      "cell_type": "code",
      "source": [
        "from sklearn.model_selection import RandomizedSearchCV\n",
        "from scipy.stats import uniform\n",
        "  \n",
        "# Define the hyperparameters and their distributions\n",
        "param_distributions = {\n",
        "    'alpha': uniform(0.01, 10.0)\n",
        "}\n",
        "  \n",
        "# Create a model\n",
        "model = Ridge()\n",
        "  \n",
        "# Use randomized search to find the optimal hyperparameters\n",
        "random_search = RandomizedSearchCV(model,\n",
        "                                   param_distributions,cv=5, scoring='neg_mean_squared_error')\n",
        "random_search.fit(X_train, y_train)\n",
        "  \n",
        "# Print the optimal values for the hyperparameters\n",
        "print(random_search.best_params_)\n",
        "print(\"Mean squared error:\", -random_search.best_score_)\n",
        "\n",
        "\n"
      ],
      "metadata": {
        "colab": {
          "base_uri": "https://localhost:8080/"
        },
        "id": "Pm2MZnfm6UKs",
        "outputId": "dbf86c26-65dc-498e-8bfe-6841c0bafeed"
      },
      "execution_count": 40,
      "outputs": [
        {
          "output_type": "stream",
          "name": "stdout",
          "text": [
            "{'alpha': 1.0479819343715535}\n",
            "Mean squared error: 2.7970888386991577\n"
          ]
        }
      ]
    },
    {
      "cell_type": "code",
      "source": [
        "import pickle\n",
        "pickle.dump(model,open('model.pkl','wb'))"
      ],
      "metadata": {
        "id": "wzc4InWqw_q4"
      },
      "execution_count": 42,
      "outputs": []
    }
  ],
  "metadata": {
    "colab": {
      "provenance": [],
      "include_colab_link": true
    },
    "kernelspec": {
      "display_name": "Python 3",
      "language": "python",
      "name": "python3"
    },
    "language_info": {
      "codemirror_mode": {
        "name": "ipython",
        "version": 3
      },
      "file_extension": ".py",
      "mimetype": "text/x-python",
      "name": "python",
      "nbconvert_exporter": "python",
      "pygments_lexer": "ipython3",
      "version": "3.7.0"
    },
    "vscode": {
      "interpreter": {
        "hash": "643a47424beb36352ffe22be6206234b6bc868893f6b52b5682a155db092888b"
      }
    }
  },
  "nbformat": 4,
  "nbformat_minor": 0
}